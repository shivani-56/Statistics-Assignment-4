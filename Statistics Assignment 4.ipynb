{
 "cells": [
  {
   "cell_type": "markdown",
   "id": "7f599399",
   "metadata": {},
   "source": [
    "# Problem Statement 1:\n",
    "Is gender independent of education level? A random sample of 395 people were\n",
    "surveyed and each person was asked to report the highest education level they\n",
    "obtained. The data that resulted from the survey is summarized in the following table:\n",
    "High School Bachelors Masters Ph.d. Total\n",
    "Female 60 54 46 41 201\n",
    "Male 40 44 53 57 194\n",
    "Total 100 98 99 98 395\n",
    "Question: Are gender and education level dependent at 5% level of significance? In\n",
    "other words, given the data collected above, is there a relationship between the\n",
    "gender of an individual and the level of education that they have obtained?"
   ]
  },
  {
   "cell_type": "markdown",
   "id": "fefb1dcd",
   "metadata": {},
   "source": [
    "#Chi-Square test of independence #H0 :Null Hypothesis: The two categorical variables are independent. #H1:Alternative Hypothesis: The two categorical variables are dependent.\n",
    "\n",
    "import numpy as np import pandas as pd import scipy.stats as stats\n",
    "\n",
    "male = [40,44,53,57] female = [60,54,46,41] High_school=[60,40] Bachelors = [54,44] Masters = [46,53] Phd = [41,57]\n",
    "\n",
    "marks = male+female print(marks) sex=['M','M','M','M','F','F','F','F'] education =['High_school','Bachelors','Masters','Ph.d','High_school','Bachelors','Masters','Ph.d'] DF=pd.DataFrame({\"Education\":education,\"Marks\":marks,\"Sex\":sex}) DF print(DF)\n",
    "\n",
    "cross_tab = pd.crosstab([DF.Sex,DF.Marks],DF.Education,margins=True) cross_tab\n",
    "\n",
    "DF1 = pd.crosstab(DF.Sex, DF.Education,DF.Marks, aggfunc=\"sum\",margins=True) DF1\n",
    "\n",
    "DF1.columns = [\"Bachelors\",\"High_School\",\"Masters\",\"Ph.d.\",\"Genderwise_total\"] DF1.index = [\"Female\",\"Male\",\"Combined\"] DF1"
   ]
  },
  {
   "cell_type": "markdown",
   "id": "20f0adc9",
   "metadata": {},
   "source": [
    "Creating a table exlcuding the total for later use\n",
    "DF2 = DF1.iloc[0:2,0:4]\n",
    "DF2\n",
    "\n",
    "For a test of independence, we use the same chi-squared formula that we used for the goodness-of-fit test.\n",
    "The main difference is we have to calculate the expected counts of each cell in a 2-dimensional table instead of\n",
    "a 1-dimensional table. To get the expected count for a cell, multiply the row total for that cell by the column"
   ]
  },
  {
   "cell_type": "markdown",
   "id": "e68f8de3",
   "metadata": {},
   "source": [
    "total for that cell and then divide by the total number of observations. We can quickly get the expected counts\n",
    "for all cells in the table by taking the row totals and column totals of the table, performing an outer product\n",
    "on them with the np.outer() function and dividing by the number of observations:\n",
    "DF3=np.outer(DF1[\"Genderwise_total\"][0:2],DF1.loc[\"Combined\"][0:4]) / 395.0 DF3 = pd.DataFrame(DF3) DF3.columns = [\"Bachelors\",\"High_School\",\"Masters\",\"Ph.d.\"] DF3.index = [\"Female\",\"Male\"] DF3\n",
    "\n",
    "Now we will calculate the chisquare statistic, critical value and p value.\n",
    "We called the .sum() twice, once to get the column sum and second time to add the sum, returning the sum of entire\n",
    "2D table\n",
    "chi_squared_stat = (((DF3-DF2)**2)/DF3).sum().sum() print(chi_squared_stat)\n",
    "\n",
    "#Find the critical value for 95% confidence and degree of freedom (df) is 3 cvalue = stats.chi2.ppf(q = 0.95,df= 3) print(\"Critical value\") print(cvalue)\n",
    "\n",
    "Find the p-value"
   ]
  },
  {
   "cell_type": "markdown",
   "id": "109a7167",
   "metadata": {},
   "source": [
    "p_value = 1 - stats.chi2.cdf(x=chi_squared_stat,df=3) print(\"P value\") print(p_value)\n",
    "\n",
    "Use stats.chi2_contingency() function to conduct a test of independence automatically given a frequency table\n",
    "of observed counts:\n",
    "result = stats.chi2_contingency(observed= DF2) print(result) print('-'*115) print('The output shows the chi-square statistic = 8, the p-value as 0.045 and the degrees of freedom as 3') print('The critical value with 3 degree of freedom is 7.815. Since 8.006 > 7.815, therefore we reject the null hypothesis and conclude that the education level depends on gender at a 5% level of significance.')"
   ]
  },
  {
   "cell_type": "markdown",
   "id": "2d0c01ca",
   "metadata": {},
   "source": [
    "# Problem Statement 2:\n",
    "Using the following data, perform a oneway analysis of variance using α=.05. Write up the results in APA format.\n",
    "[Group1: 51, 45, 33, 45, 67] [Group2: 23, 43, 23, 43, 45] [Group3: 56, 76, 74, 87, 56]\n",
    "#The analysis of variance or ANOVA is a statistical inference test that lets you compare multiple groups at the same\n",
    "\n",
    "time. The one-way ANOVA tests whether the mean of some numeric variable differs across the levels of one categorical\n",
    "variable.It essentially answers the question: do any of the group means differ from one another?\n",
    "#The scipy library has a function for carrying out one-way ANOVA tests called scipy.stats.f_oneway() import scipy.stats as stats Group1 = [51, 45, 33, 45, 67] Group2 = [23, 43, 23, 43, 45] Group3 = [56, 76, 74, 87, 56]\n",
    "\n",
    "Perform the ANOVA\n",
    "statistic, pvalue = stats.f_oneway(Group1,Group2,Group3) print(\"F Statistic value {} , p-value {}\".format(statistic,pvalue)) if pvalue < 0.05: print('True') else: print('False') print(\"-\"*115) print(\"The test result suggests the groups have different same sample means in this example, since the p-value is significant at a 99% confidence level. Here the p-value returned is 0.00305 which is < 0.05\")\n",
    "\n",
    "Problem Statement 3:\n",
    "Calculate F Test for given 10, 20, 30, 40, 50 and 5,10,15, 20, 25. For 10, 20, 30, 40, 50:\n",
    "stats.f_oneway([10, 20, 30, 40, 50],[5,10,15, 20, 25])\n",
    "\n",
    "Group1 = [10, 20, 30, 40, 50] Group2 = [5,10,15, 20, 25] mean_1 = np.mean(Group1) mean_2 = np.mean(Group2) grp1_sub_mean1 = [] grp2_sub_mean2 = [] add1 = 0 add2 = 0 for items in Group1: add1 += (items - mean_1)**2 for items in Group2: add2 += (items - mean_2)**2 var1 = add1/(len(Group1)-1) var2 = add2/(len(Group2)-1)\n",
    "\n",
    "F_Test = var1/var2 print(\"F Test for given 10, 20, 30, 40, 50 and 5,10,15, 20, 25 is : \",F_Test)\n",
    "\n"
   ]
  },
  {
   "cell_type": "code",
   "execution_count": null,
   "id": "7ab0d123",
   "metadata": {},
   "outputs": [],
   "source": []
  }
 ],
 "metadata": {
  "kernelspec": {
   "display_name": "Python 3",
   "language": "python",
   "name": "python3"
  },
  "language_info": {
   "codemirror_mode": {
    "name": "ipython",
    "version": 3
   },
   "file_extension": ".py",
   "mimetype": "text/x-python",
   "name": "python",
   "nbconvert_exporter": "python",
   "pygments_lexer": "ipython3",
   "version": "3.8.8"
  }
 },
 "nbformat": 4,
 "nbformat_minor": 5
}
